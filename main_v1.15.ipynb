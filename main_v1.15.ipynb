{
 "cells": [
  {
   "cell_type": "markdown",
   "metadata": {
    "id": "wCA9rZjDSVe9"
   },
   "source": [
    "## Instals"
   ]
  },
  {
   "cell_type": "code",
   "execution_count": null,
   "metadata": {
    "colab": {
     "base_uri": "https://localhost:8080/"
    },
    "id": "MeiYRD_UR3B3",
    "outputId": "38b3961b-8019-4b2b-bea5-de1268dad27d"
   },
   "outputs": [],
   "source": [
    "%cd /yolov5\n",
    "!pip install -r yolov5/requirements.txt  # install\n",
    "%cd /yolov5"
   ]
  },
  {
   "cell_type": "code",
   "execution_count": null,
   "metadata": {
    "colab": {
     "base_uri": "https://localhost:8080/"
    },
    "id": "dSgc0AXtSJYQ",
    "outputId": "7f18c64e-d18e-439f-d020-fc5392cb7849",
    "scrolled": true
   },
   "outputs": [],
   "source": [
    "!pip install fuzzywuzzy\n",
    "!pip install python-Levenshtein"
   ]
  },
  {
   "cell_type": "code",
   "execution_count": null,
   "metadata": {
    "colab": {
     "base_uri": "https://localhost:8080/"
    },
    "id": "eNySL9PvSKtL",
    "outputId": "6c89a72d-1290-4d97-8f71-de55758ef816"
   },
   "outputs": [],
   "source": [
    "!pip install \"paddleocr>=2.0.1\" --upgrade # Recommend to use version 2.0.1+\n",
    "!pip install paddlepaddle"
   ]
  },
  {
   "cell_type": "code",
   "execution_count": null,
   "metadata": {
    "colab": {
     "base_uri": "https://localhost:8080/"
    },
    "id": "IeQgN9hHoAHm",
    "outputId": "e6a63da2-66ef-45b5-d2a6-9b42c5061646"
   },
   "outputs": [],
   "source": [
    "!pip install munkres"
   ]
  },
  {
   "cell_type": "code",
   "execution_count": null,
   "metadata": {
    "colab": {
     "base_uri": "https://localhost:8080/"
    },
    "id": "mRx0dE0LYcF3",
    "outputId": "91b65443-15c4-4f54-e017-ac897fbf718b"
   },
   "outputs": [],
   "source": [
    "!pip install pyTelegramBotAPI"
   ]
  },
  {
   "cell_type": "markdown",
   "metadata": {
    "id": "gxZ6n_hxSkYg"
   },
   "source": [
    "## Imports"
   ]
  },
  {
   "cell_type": "code",
   "execution_count": null,
   "metadata": {
    "id": "_EubUxlxSMmq"
   },
   "outputs": [],
   "source": [
    "from PIL import Image\n",
    "from itertools import product\n",
    "\n",
    "import os\n",
    "from math import ceil\n",
    "\n",
    "import matplotlib.pyplot as plt\n",
    "from matplotlib import patches\n",
    "from matplotlib.pyplot import figure\n",
    "\n",
    "import pandas as pd\n",
    "import numpy as np\n",
    "\n",
    "import torch\n",
    "\n",
    "from math import sqrt"
   ]
  },
  {
   "cell_type": "code",
   "execution_count": null,
   "metadata": {
    "id": "fIaQJEVoSOmJ"
   },
   "outputs": [],
   "source": [
    "from fuzzywuzzy import fuzz\n",
    "from fuzzywuzzy import process\n",
    "\n",
    "from paddleocr import PaddleOCR"
   ]
  },
  {
   "cell_type": "code",
   "execution_count": null,
   "metadata": {
    "id": "93zOKsgvoDy0"
   },
   "outputs": [],
   "source": [
    "from munkres import Munkres, print_matrix"
   ]
  },
  {
   "cell_type": "code",
   "execution_count": null,
   "metadata": {
    "id": "77MWuh7hYY1n"
   },
   "outputs": [],
   "source": [
    "import telebot\n",
    "import io"
   ]
  },
  {
   "cell_type": "code",
   "execution_count": null,
   "metadata": {
    "id": "V6gtXy11SPFX"
   },
   "outputs": [],
   "source": [
    "# %matplotlib inline"
   ]
  },
  {
   "cell_type": "code",
   "execution_count": null,
   "metadata": {
    "id": "gApdFa2zSRD_"
   },
   "outputs": [],
   "source": [
    "plt.rcParams[\"figure.figsize\"] = (20, 30)\n",
    "plt.rcParams[\"figure.dpi\"] = (150)"
   ]
  },
  {
   "cell_type": "markdown",
   "metadata": {
    "id": "YAplbPvKSrf2"
   },
   "source": [
    "## Clases"
   ]
  },
  {
   "cell_type": "markdown",
   "metadata": {
    "id": "NrnUVeazkEql"
   },
   "source": [
    "### utility"
   ]
  },
  {
   "cell_type": "code",
   "execution_count": null,
   "metadata": {
    "id": "Y4dOiPepSx2e"
   },
   "outputs": [],
   "source": [
    "class Utility:\n",
    "    def __init__(self) -> None:\n",
    "        self.rating = ['motorized three-phase circuit breaker',\n",
    "                       'motorized single-phase circuit breaker',\n",
    "                       'motorized switch', 'transformer', 'motorizwd circuit breaker',\n",
    "                       'withdrawable circuit breaker', 'four-phase circuit breaker',\n",
    "                       'three-phase circuit breaker', 'three-phase switch',\n",
    "                       'two-phase circuit breaker', 'single-phase circuit breaker',\n",
    "                       'circuit breaker', 'surge protection device',\n",
    "                       'fuse switch disconnector', 'fuse', 'switch', 'capasitor ',\n",
    "                       'photoresistor', 'direct connection counter',\n",
    "                       'voltage monitoring relay', 'lamp', 'RCD 220V',\n",
    "                       'differential circuit breaker 380V',\n",
    "                       'differential circuit breaker 220V', 'ground',\n",
    "                       'instrument current transformer', 'Inductor',\n",
    "                       'reactive power compensation device', 'v', 'h']\n",
    "\n",
    "        self.d = 600\n",
    "        self.offset = 400\n",
    "\n",
    "    def get_grid(self, h, w):\n",
    "        def _get_grid(x): return range(0, self.d * ceil(x / self.d), self.d)\n",
    "        return product(_get_grid(h), _get_grid(w))\n",
    "\n",
    "    def tileImage(self, img):\n",
    "        w, h = img.size\n",
    "        grid = self.get_grid(h, w)\n",
    "\n",
    "        for i, j in grid:\n",
    "            box = (j, i, j + self.d + self.offset, i + self.d + self.offset)\n",
    "            ni = img.crop(box)\n",
    "            yield ni\n",
    "\n",
    "    def calcBboxSquare(self, bbox):\n",
    "        return abs((bbox[2] - bbox[0]) * (bbox[3] - bbox[1]))\n",
    "\n",
    "    def bb_iou(self, boxA, boxB):\n",
    "        xA = max(boxA[0], boxB[0])\n",
    "        yA = max(boxA[1], boxB[1])\n",
    "        xB = min(boxA[2], boxB[2])\n",
    "        yB = min(boxA[3], boxB[3])\n",
    "\n",
    "        interArea = abs(max((xB - xA, 0)) * max((yB - yA), 0))\n",
    "        if interArea == 0:\n",
    "            return 0\n",
    "\n",
    "        boxAArea = abs((boxA[2] - boxA[0]) * (boxA[3] - boxA[1]))\n",
    "        boxBArea = abs((boxB[2] - boxB[0]) * (boxB[3] - boxB[1]))\n",
    "\n",
    "        return interArea / float(boxAArea + boxBArea - interArea)  # iou\n",
    "\n",
    "    def add_bbox(self, x):\n",
    "        return (x['xmin'], x['ymin'], x['xmax'], x['ymax'])\n",
    "\n",
    "    def draw(self, img, table, name=None, match=None):\n",
    "        fig, ax = plt.subplots()\n",
    "        ax.imshow(img)\n",
    "        ax.set_axis_off()\n",
    "        for i, r in table.iterrows():\n",
    "            w = r['xmax'] - r['xmin']\n",
    "            h = r['ymax'] - r['ymin']\n",
    "            bbox = patches.Rectangle((r['xmin'], r['ymin']), w, h, linewidth=1,\n",
    "                                     edgecolor=(1, 0, 0), fill=False)\n",
    "            plt.text(r['xmin'], r['ymin'] + h//2, r['name'][:5], color='green',\n",
    "                     verticalalignment='bottom', size=6)\n",
    "            ax.add_patch(bbox)\n",
    "        if match:\n",
    "            for m in match:\n",
    "                r1 = table.iloc[[m[0]]]\n",
    "                r2 = table.iloc[[m[1]]]\n",
    "                plt.plot([r1['xmax'], r2['xmax']], [r1['ymax'],\n",
    "                         r2['ymax']], color=\"blue\", linewidth=2)\n",
    "\n",
    "        if name:\n",
    "            plt.savefig(name, format='png',\n",
    "                        bbox_inches='tight', pad_inches=0.0)"
   ]
  },
  {
   "cell_type": "markdown",
   "metadata": {
    "id": "s6aF1BZXkIXA"
   },
   "source": [
    "### finder"
   ]
  },
  {
   "cell_type": "code",
   "execution_count": null,
   "metadata": {
    "id": "yuA4A0FcS_wZ"
   },
   "outputs": [],
   "source": [
    "class Finder:\n",
    "    def __init__(self, model) -> None:\n",
    "        self.model = model\n",
    "\n",
    "        self.ut = Utility()\n",
    "\n",
    "        self.current_image = None\n",
    "        self.intef_results = None\n",
    "        self.table = None\n",
    "\n",
    "    def open_image(self, filename, dir_in):\n",
    "        #resize is helpfull\n",
    "        self.current_image = Image.open(\n",
    "            os.path.join(dir_in, filename)).convert('RGB')\n",
    "\n",
    "    def interference(self):\n",
    "        tiledImg = list(self.ut.tileImage(self.current_image))\n",
    "        self.intef_results = self.model(tiledImg).pandas().xyxy\n",
    "        return self.intef_results\n",
    "\n",
    "    def form_table(self, threshold=0.0):\n",
    "        w, h = self.current_image.size\n",
    "        grid = list(self.ut.get_grid(h, w))\n",
    "        self.table = pd.DataFrame(columns=self.intef_results[0].columns)\n",
    "\n",
    "        for i in range(len(grid) - 1):\n",
    "            res = self.intef_results[i].copy()\n",
    "            res['xmin'] = res['xmin'] + grid[i][1]\n",
    "            res['xmax'] = res['xmax'] + grid[i][1]\n",
    "            res['ymin'] = res['ymin'] + grid[i][0]\n",
    "            res['ymax'] = res['ymax'] + grid[i][0]\n",
    "            self.table = self.table.append(res, ignore_index=True)\n",
    "            self.table = self.table[self.table['confidence']\n",
    "                                    > threshold].reset_index(drop=True)\n",
    "        self.table = self.clear_table(self.table)\n",
    "        return self.table\n",
    "\n",
    "    def clear_table(self, table, iou_tresh=0.15):\n",
    "        table['bbox'] = table.apply(lambda x: self.ut.add_bbox(x), axis=1)\n",
    "\n",
    "        to_delete = list()\n",
    "        to_concat = list()\n",
    "\n",
    "        for i in range(table.shape[0]):\n",
    "            for j in range(i + 1, table.shape[0]):\n",
    "                pos, posj = table.iloc[i]['bbox'], table.iloc[j]['bbox']\n",
    "                el, elj = table.iloc[i]['name'], table.iloc[j]['name']\n",
    "\n",
    "                if self.ut.bb_iou(pos, posj) >= iou_tresh:\n",
    "                    if self.ut.rating.index(el) < self.ut.rating.index(elj):\n",
    "                        to_delete.append(j)\n",
    "                        # print(f'Оставиили - {el}, убрали - {elj}')\n",
    "                    elif self.ut.rating.index(el) > self.ut.rating.index(elj):\n",
    "                        to_delete.append(i)\n",
    "                        # print(f'Оставиили - {elj}, убрали - {el}')\n",
    "                    else:\n",
    "                        # print(f'Соеденили {elj}, {el}')\n",
    "                        to_delete.append(j)\n",
    "                        to_concat.append((i, j))\n",
    "\n",
    "        return table.drop(index=to_delete).reset_index()"
   ]
  },
  {
   "cell_type": "markdown",
   "metadata": {
    "id": "ilS18XPmkR8f"
   },
   "source": [
    "### reader"
   ]
  },
  {
   "cell_type": "code",
   "execution_count": null,
   "metadata": {
    "id": "VAT_O57YkUxF"
   },
   "outputs": [],
   "source": [
    "class Reader:\n",
    "    def __init__(self) -> None:\n",
    "        self.price = pd.read_excel('/Price-list-CHINT-ot-01_08_2022.xlsx',\n",
    "                                   sheet_name='Тариф 01.08.2022', header=2)\n",
    "        self.desc = self.price['Описание'].map(str.lower)\n",
    "\n",
    "        self.ocr = PaddleOCR(use_angle_cls=True, lang='en',\n",
    "                             debug=False, show_log=False)\n",
    "\n",
    "    def read_from_labels(self, table, image):\n",
    "        for i, r in table[table.name == 'v'].iterrows():\n",
    "            xmin = int(r['xmin'] - (r['xmax'] - r['xmin']) * 0.3)\n",
    "            ymin = int(r['ymin'] - (r['ymax'] - r['ymin']) * 0.3)\n",
    "            xmax = int(r['xmax'] + (r['xmax'] - r['xmin']) * 0.3)\n",
    "            ymax = int(r['ymax'] + (r['ymax'] - r['ymin']) * 0.3)\n",
    "            croped_img = np.asarray(image)[ymin:ymax, xmin:xmax]\n",
    "            plt.imshow(croped_img)\n",
    "            founded = self.ocr.ocr(croped_img)\n",
    "            txts = [line[1][0] for line in founded]\n",
    "            yield self.find_in_price(' '.join(txts))\n",
    "\n",
    "    def read_label(self, bbox, image):\n",
    "        # xmin ymin xmax ymax\n",
    "        # print(bbox)\n",
    "        xmin = int(bbox[0] - (bbox[2] - bbox[0]) * 0.3)\n",
    "        ymin = int(bbox[1] - (bbox[3] - bbox[1]) * 0.3)\n",
    "        xmax = int(bbox[2] + (bbox[2] - bbox[0]) * 0.3)\n",
    "        ymax = int(bbox[3] + (bbox[3] - bbox[1]) * 0.3)\n",
    "        croped_img = np.asarray(image)[ymin:ymax, xmin:xmax]\n",
    "        founded = self.ocr.ocr(croped_img)\n",
    "        txts = [line[1][0] for line in founded]\n",
    "        # print(txts)\n",
    "        return ' '.join(txts)\n",
    "\n",
    "    def find_in_price(self, founded):\n",
    "        return process.extract(founded.lower(), self.desc, limit=3, scorer=fuzz.ratio)"
   ]
  },
  {
   "cell_type": "markdown",
   "metadata": {
    "id": "nPHCP7-FoQF0"
   },
   "source": [
    "### matcher"
   ]
  },
  {
   "cell_type": "code",
   "execution_count": null,
   "metadata": {
    "id": "Z3BRYO81i50l"
   },
   "outputs": [],
   "source": [
    "class Matcher:\n",
    "    def __init__(self, table) -> None:\n",
    "        exception_list = list()  # TODO\n",
    "        vs = list()\n",
    "        es = list()\n",
    "        for i, r in table.iterrows():\n",
    "            if r['name'] == 'v':\n",
    "                vs.append(self.calculate_dists(i, r, table))\n",
    "            else:\n",
    "                es.append(self.calculate_dists(i, r, table))\n",
    "\n",
    "        m = Munkres()\n",
    "        indexes = m.compute(vs)\n",
    "\n",
    "        v_ind, e_ind = self.get_table_indexes(table)\n",
    "        self.match = [(v_ind[row], e_ind[column]) for row, column in indexes]\n",
    "\n",
    "    def get_table_indexes(self, table):\n",
    "        v_ind = list()\n",
    "        e_ind = list()\n",
    "        for i, r in table.iterrows():\n",
    "            if r['name'] == 'v':\n",
    "                v_ind.append(i)\n",
    "            else:\n",
    "                e_ind.append(i)\n",
    "        return v_ind, e_ind\n",
    "\n",
    "    def calculate_dists(self, index, row, table):\n",
    "        res_d = list()\n",
    "        for i, r in table.iterrows():\n",
    "            if row['name'] == 'v':\n",
    "                if r['name'] != 'v':\n",
    "                    res_d.append(self.get_dist(row, r))\n",
    "            else:\n",
    "                if r['name'] == 'v':\n",
    "                    res_d.append(self.get_dist(row, r))\n",
    "\n",
    "        return res_d\n",
    "\n",
    "    def get_dist(self, row1, row2):\n",
    "        a = ((row1['xmax'] - row1['xmin'])//2 + row1['xmin']) - \\\n",
    "            ((row2['xmax'] - row2['xmin'])//2 + row2['xmin'])\n",
    "        b = ((row1['ymax'] - row1['ymin'])//2 + row1['ymin']) - \\\n",
    "            ((row2['ymax'] - row2['ymin'])//2 + row2['ymin'])\n",
    "        return round(sqrt(a**2 + b**2))"
   ]
  },
  {
   "cell_type": "markdown",
   "metadata": {
    "id": "hhHdlNzgOMji"
   },
   "source": [
    "### endTableFormer"
   ]
  },
  {
   "cell_type": "code",
   "execution_count": null,
   "metadata": {
    "id": "SvCvvPbH0wqh"
   },
   "outputs": [],
   "source": [
    "class EndTableFormer:\n",
    "    def __init__(self, img, finder, reader) -> None:\n",
    "        self.finder = finder\n",
    "        self.finder.current_image = img\n",
    "\n",
    "        print('find Started')\n",
    "        self.finder.interference()\n",
    "        print('find Done')\n",
    "        self.finder.form_table()\n",
    "        print('table Done')\n",
    "        self.match = Matcher(self.finder.table).match\n",
    "        print('match Done')\n",
    "        self.rd = reader\n",
    "        print('reader Done')\n",
    "\n",
    "    def get_end_table(self):\n",
    "        # f_index | confidence | class | name | readed_related_str | founded_in_price | match | price\n",
    "        end = {'f_index': [], 'confidence': [], 'class': [],\n",
    "               'name': [], 'readed_related_str': [],\n",
    "               'founded_in_price': [], 'match': []}\n",
    "        for i, r in self.finder.table.iterrows():\n",
    "            m = self.get_matched(i)\n",
    "            if m is not None and r['name'] != 'v':\n",
    "                readed = self.rd.read_label(\n",
    "                    tuple(m['bbox'])[0], self.finder.current_image)\n",
    "                end['f_index'].append(i)\n",
    "                end['confidence'].append(r['confidence'])\n",
    "                end['class'].append(r['class'])\n",
    "                end['name'].append(r['name'])\n",
    "                end['readed_related_str'].append(readed)\n",
    "                end['founded_in_price'].append(\n",
    "                    self.rd.find_in_price(readed)[0][0])\n",
    "                end['match'].append(m.index[0])\n",
    "        end = pd.DataFrame(end)\n",
    "        return end\n",
    "\n",
    "    def get_matched(self, el_index):\n",
    "        for m in self.match:\n",
    "            if m[0] == el_index:\n",
    "                return self.finder.table.iloc[[m[1]]]\n",
    "            elif m[1] == el_index:\n",
    "                return self.finder.table.iloc[[m[0]]]\n",
    "        return None"
   ]
  },
  {
   "cell_type": "markdown",
   "metadata": {},
   "source": [
    "## Usage"
   ]
  },
  {
   "cell_type": "code",
   "execution_count": null,
   "metadata": {},
   "outputs": [],
   "source": [
    "# finder = Finder()"
   ]
  },
  {
   "cell_type": "code",
   "execution_count": null,
   "metadata": {},
   "outputs": [],
   "source": [
    "# filename = 'scheme_056.png' #56\n",
    "# dir_in = '/datasets/scheme_copy_'"
   ]
  },
  {
   "cell_type": "code",
   "execution_count": null,
   "metadata": {},
   "outputs": [],
   "source": [
    "# finder.open_image(filename, dir_in) \n",
    "# _=finder.interference()\n",
    "# finder.ut.draw(finder.current_image, finder.table)"
   ]
  },
  {
   "cell_type": "code",
   "execution_count": null,
   "metadata": {},
   "outputs": [],
   "source": [
    "# rd = Reader()\n",
    "# reader = rd.read_from_labels(finder.form_table(), finder.current_image)"
   ]
  },
  {
   "cell_type": "code",
   "execution_count": null,
   "metadata": {},
   "outputs": [],
   "source": [
    "# m = Matcher(finder.table)\n",
    "# Utility.draw(None, finder.current_image, finder.table, m.match)"
   ]
  },
  {
   "cell_type": "code",
   "execution_count": null,
   "metadata": {},
   "outputs": [],
   "source": [
    "# filename = 'exmp-8.png'\n",
    "# dir_in = '/datasets/examples/'\n",
    "# e = EndTableFormer(filename, dir_in)\n",
    "# e.get_end_table()"
   ]
  },
  {
   "cell_type": "markdown",
   "metadata": {
    "heading_collapsed": true,
    "id": "2kvE25rPYWCj"
   },
   "source": [
    "## Bot\n"
   ]
  },
  {
   "cell_type": "code",
   "execution_count": null,
   "metadata": {
    "colab": {
     "base_uri": "https://localhost:8080/"
    },
    "hidden": true,
    "id": "nLw2rT9CclSe",
    "outputId": "d3812515-96f7-4957-c602-efe17b2020cd"
   },
   "outputs": [],
   "source": [
    "model = torch.hub.load('ultralytics/yolov5', 'custom',\n",
    "                       path='./yolov5/yolov5/runs/train/03_08_2022_2_from_03_08_2022/weights/best.pt')  # local model"
   ]
  },
  {
   "cell_type": "code",
   "execution_count": null,
   "metadata": {
    "colab": {
     "base_uri": "https://localhost:8080/"
    },
    "hidden": true,
    "id": "7huTLQknYbQE",
    "outputId": "ab815e4b-82b2-40aa-9ecc-6047aa505395"
   },
   "outputs": [],
   "source": [
    "TOKEN = ':TOKEN:'\n",
    "tb = telebot.TeleBot(TOKEN)\n",
    "\n",
    "\n",
    "@tb.message_handler(commands=[\"start\"])\n",
    "def start(message, res=False):\n",
    "    tb.send_message(message.chat.id, 'Отправьте схему.')\n",
    "\n",
    "\n",
    "@tb.message_handler(content_types=[\"photo\", 'document'])\n",
    "def handle_text(message):\n",
    "    try:\n",
    "        if message.document:\n",
    "            file_info = tb.get_file(message.document.file_id)\n",
    "        else:\n",
    "            file_info = tb.get_file(\n",
    "                message.photo[len(message.photo)-1].file_id)\n",
    "\n",
    "        downloaded_file = tb.download_file(file_info.file_path)\n",
    "        img = Image.open(io.BytesIO(downloaded_file)).convert('RGB')\n",
    "\n",
    "        tb.send_message(message.chat.id,\n",
    "                        f'Сейчас-сейчас... \\nТикет: {file_info}')\n",
    "\n",
    "        find = Finder(model)\n",
    "        etf = EndTableFormer(img, find, Reader())\n",
    "\n",
    "        table = etf.get_end_table()\n",
    "        table.to_excel(f'{message.chat.id}.xlsx')\n",
    "        fl = open(f\"{message.chat.id}.xlsx\", \"rb\")\n",
    "        tb.send_document(message.chat.id, fl)\n",
    "        Utility.draw(None, find.current_image, find.table,\n",
    "                     match=etf.match, name=f'{message.chat.id}.png')\n",
    "        tb.send_photo(message.chat.id, Image.open(\n",
    "            f'{message.chat.id}.png').convert('RGB'))\n",
    "    except:\n",
    "        tb.send_message(message.chat.id, 'Что-то пошло не так.')\n",
    "\n",
    "\n",
    "tb.polling(none_stop=True, interval=0)"
   ]
  },
  {
   "cell_type": "code",
   "execution_count": null,
   "metadata": {
    "hidden": true,
    "id": "JrbNl0tM0AY1"
   },
   "outputs": [],
   "source": []
  }
 ],
 "metadata": {
  "colab": {
   "collapsed_sections": [
    "s6aF1BZXkIXA",
    "nPHCP7-FoQF0"
   ],
   "provenance": []
  },
  "kernelspec": {
   "display_name": "Python 3 (ipykernel)",
   "language": "python",
   "name": "python3"
  },
  "language_info": {
   "codemirror_mode": {
    "name": "ipython",
    "version": 3
   },
   "file_extension": ".py",
   "mimetype": "text/x-python",
   "name": "python",
   "nbconvert_exporter": "python",
   "pygments_lexer": "ipython3",
   "version": "3.10.5"
  },
  "varInspector": {
   "cols": {
    "lenName": 16,
    "lenType": 16,
    "lenVar": 40
   },
   "kernels_config": {
    "python": {
     "delete_cmd_postfix": "",
     "delete_cmd_prefix": "del ",
     "library": "var_list.py",
     "varRefreshCmd": "print(var_dic_list())"
    },
    "r": {
     "delete_cmd_postfix": ") ",
     "delete_cmd_prefix": "rm(",
     "library": "var_list.r",
     "varRefreshCmd": "cat(var_dic_list()) "
    }
   },
   "types_to_exclude": [
    "module",
    "function",
    "builtin_function_or_method",
    "instance",
    "_Feature"
   ],
   "window_display": false
  }
 },
 "nbformat": 4,
 "nbformat_minor": 1
}
